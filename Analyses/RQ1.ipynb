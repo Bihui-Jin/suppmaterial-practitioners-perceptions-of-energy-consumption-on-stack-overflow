{
 "cells": [
  {
   "cell_type": "code",
   "execution_count": 1,
   "metadata": {},
   "outputs": [],
   "source": [
    "import pandas as pd\n",
    "import numpy as np"
   ]
  },
  {
   "cell_type": "code",
   "execution_count": 3,
   "metadata": {},
   "outputs": [
    {
     "name": "stdout",
     "output_type": "stream",
     "text": [
      "{'api usage': 86, 'review': 33, 'conceptual': 138, 'discrepancy': 44, 'errors': 11, 'learning': 7}\n",
      "{'api usage': '30.94%', 'review': '11.87%', 'conceptual': '49.64%', 'discrepancy': '15.83%', 'errors': '3.96%', 'learning': '2.52%'}\n"
     ]
    }
   ],
   "source": [
    "posts = pd.read_excel(f'xxxx/verify.xlsx')\n",
    "cat = {}\n",
    "for i in range(len(posts.index)):\n",
    "    a = posts['Category'][i].lower().split(';')  \n",
    "\n",
    "    for x in a:\n",
    "        if x in cat:\n",
    "            cat[x] = cat[x] +1\n",
    "        else:\n",
    "            cat[x] = 1\n",
    "print(cat)\n",
    "\n",
    "for x in cat:\n",
    "    cat[x] = f'{round(cat[x]/278 *100,2)}%'\n",
    "print(cat)\n"
   ]
  }
 ],
 "metadata": {
  "interpreter": {
   "hash": "0ee6a324b57200156d3a2a2c1c5cb9b039a68da009fd101a314ed19263c7c6d6"
  },
  "kernelspec": {
   "display_name": "Python 3 (ipykernel)",
   "language": "python",
   "name": "python3"
  },
  "language_info": {
   "codemirror_mode": {
    "name": "ipython",
    "version": 3
   },
   "file_extension": ".py",
   "mimetype": "text/x-python",
   "name": "python",
   "nbconvert_exporter": "python",
   "pygments_lexer": "ipython3",
   "version": "3.9.15"
  }
 },
 "nbformat": 4,
 "nbformat_minor": 4
}
