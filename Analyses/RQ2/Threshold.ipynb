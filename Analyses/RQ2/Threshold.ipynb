{
 "cells": [
  {
   "cell_type": "code",
   "execution_count": 16,
   "metadata": {},
   "outputs": [],
   "source": [
    "import pandas as pd\n",
    "import simpledorff\n",
    "import numpy as np\n",
    "import operator"
   ]
  },
  {
   "cell_type": "code",
   "execution_count": 53,
   "metadata": {},
   "outputs": [
    {
     "data": {
      "text/plain": [
       "0.794949494949495"
      ]
     },
     "execution_count": 53,
     "metadata": {},
     "output_type": "execute_result"
    }
   ],
   "source": [
    "posts = pd.read_excel(f'xxxx/verify.xlsx')\n",
    "lda = pd.read_excel(f'xxxx/post-membership.xlsx')\n",
    "\n",
    "df = pd.merge(posts, lda, on='Id', how='inner')\n",
    "\n",
    "df = df[['Id','Topic','Topic 1 Perc Contrib',\n",
    "'Topic 2 Perc Contrib','Topic 3 Perc Contrib',\n",
    "'Topic 4 Perc Contrib','Topic 5 Perc Contrib','Topic 6 Perc Contrib']].rename(columns={'Id':'Id','Topic':'Topic',\n",
    "'Topic 1 Perc Contrib':'Coding','Topic 2 Perc Contrib':'Energy',\n",
    "'Topic 3 Perc Contrib':'Device','Topic 4 Perc Contrib':'Monitoring',\n",
    "'Topic 5 Perc Contrib':'CS','Topic 6 Perc Contrib':'DT'})\n",
    "\n",
    "data = pd.DataFrame()\n",
    "for i in range(len(posts.index)):\n",
    "    aTopic = str(posts['Topic'][i]).lower().split(';')   \n",
    "    aTopic = list(dict.fromkeys(aTopic))\n",
    "    # thrs = 0.318800002336502102\n",
    "    thrs = 0.348100006\n",
    "\n",
    "    if df.loc[i]['Coding']>=thrs: data = pd.concat([data,pd.DataFrame({'post_id':posts['Id'][i],\n",
    "        'annotator_id':'LDA','annotation':'coding'},index=[0])], ignore_index=True)\n",
    "    if df.loc[i]['Energy']>=thrs: data = pd.concat([data,pd.DataFrame({'post_id':posts['Id'][i],\n",
    "        'annotator_id':'LDA','annotation':'energy'},index=[0])], ignore_index=True)\n",
    "    if df.loc[i]['Device']>=thrs: data = pd.concat([data,pd.DataFrame({'post_id':posts['Id'][i],\n",
    "        'annotator_id':'LDA','annotation':'device'},index=[0])], ignore_index=True)\n",
    "    if df.loc[i]['Monitoring']>=thrs: data = pd.concat([data,pd.DataFrame({'post_id':posts['Id'][i],\n",
    "        'annotator_id':'LDA','annotation':'monitoring'},index=[0])], ignore_index=True)\n",
    "    if df.loc[i]['CS']>=thrs: data = pd.concat([data,pd.DataFrame({'post_id':posts['Id'][i],\n",
    "        'annotator_id':'LDA','annotation':'computing resource'},index=[0])], ignore_index=True)\n",
    "    if df.loc[i]['DT']>=thrs: data = pd.concat([data,pd.DataFrame({'post_id':posts['Id'][i],\n",
    "        'annotator_id':'LDA','annotation':'data transmission'},index=[0])], ignore_index=True)\n",
    "\n",
    "    if df.loc[i]['Coding'] < thrs and df.loc[i]['Energy'] < thrs and df.loc[i]['Device'] < thrs and df.loc[i]['Monitoring'] < thrs and df.loc[i]['CS'] < thrs and df.loc[i]['DT'] < thrs:\n",
    "        item = {'Coding':df.loc[i]['Coding'],'Energy': df.loc[i]['Energy'],'Device': df.loc[i]['Device'],'Monitoring': df.loc[i]['Monitoring'],\n",
    "        'CS': df.loc[i]['CS'],'DT': df.loc[i]['DT'],}\n",
    "        data = pd.concat([data,pd.DataFrame({'post_id':posts['Id'][i],\n",
    "        'annotator_id':'LDA','annotation':max(item.items(), key=operator.itemgetter(1))[0]},index=[0])], ignore_index=True)\n",
    "    \n",
    "    for at in aTopic:\n",
    "        if at in list(data[data['post_id']==posts['Id'][i]]['annotation']):\n",
    "            temp = pd.DataFrame({'post_id':posts['Id'][i],\n",
    "            'annotator_id':'Human','annotation':at},index=[0])\n",
    "            data = pd.concat([data,temp], ignore_index=True)\n",
    "len(data[data['annotator_id']=='LDA'])\n",
    "# data  \n",
    "simpledorff.calculate_krippendorffs_alpha_for_df(data,\n",
    "experiment_col='post_id',\n",
    "annotator_col='annotator_id',\n",
    "class_col='annotation')"
   ]
  }
 ],
 "metadata": {
  "interpreter": {
   "hash": "0ee6a324b57200156d3a2a2c1c5cb9b039a68da009fd101a314ed19263c7c6d6"
  },
  "kernelspec": {
   "display_name": "Python 3 (ipykernel)",
   "language": "python",
   "name": "python3"
  },
  "language_info": {
   "codemirror_mode": {
    "name": "ipython",
    "version": 3
   },
   "file_extension": ".py",
   "mimetype": "text/x-python",
   "name": "python",
   "nbconvert_exporter": "python",
   "pygments_lexer": "ipython3",
   "version": "3.9.15"
  }
 },
 "nbformat": 4,
 "nbformat_minor": 4
}
